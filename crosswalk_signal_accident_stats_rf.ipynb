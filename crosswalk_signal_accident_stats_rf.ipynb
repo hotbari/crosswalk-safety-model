{
 "cells": [
  {
   "cell_type": "markdown",
   "metadata": {},
   "source": [
    "## 횡단보도 관리번호 별 사건 개수 컬럼 추가"
   ]
  },
  {
   "cell_type": "code",
   "execution_count": 2,
   "metadata": {},
   "outputs": [],
   "source": [
    "import pandas as pd"
   ]
  },
  {
   "cell_type": "code",
   "execution_count": 3,
   "metadata": {},
   "outputs": [
    {
     "name": "stdout",
     "output_type": "stream",
     "text": [
      "Index(['acc_x', 'acc_y', '시도명', '시군구명', '도로명', '소재지도로명주소', '횡단보도관리번호',\n",
      "       '횡단보도종류', '자전거횡단도겸용여부', '고원식적용여부', 'grsXCrd', 'grsYCrd', '차로수', '횡단보도폭',\n",
      "       '횡단보도연장', '보행자신호등유무', '보행자작동신호기유무', '음향신호기설치여부', '녹색신호시간', '적색신호시간',\n",
      "       '교통섬유무', '보도턱낮춤여부', '점자블록유무', '집중조명시설유무', '관리기관명', '관리기관전화번호',\n",
      "       '데이터기준일자', '제공기관코드', '제공기관명'],\n",
      "      dtype='object')\n"
     ]
    }
   ],
   "source": [
    "df = pd.read_excel('dj_09_filtered_xy.xlsx')\n",
    "print(df.columns)"
   ]
  },
  {
   "cell_type": "code",
   "execution_count": 4,
   "metadata": {},
   "outputs": [
    {
     "name": "stdout",
     "output_type": "stream",
     "text": [
      "횡단보도관리번호\n",
      "06-0000006457    8\n",
      "06-0000006456    8\n",
      "06-0000006455    8\n",
      "06-0000006454    8\n",
      "06-0000006453    7\n",
      "                ..\n",
      "06-0000003804    1\n",
      "06-0000006570    1\n",
      "06-0000006569    1\n",
      "06-0000006568    1\n",
      "06-0000031413    1\n",
      "Name: count, Length: 207, dtype: int64\n"
     ]
    }
   ],
   "source": [
    "count_by_id = df['횡단보도관리번호'].value_counts()\n",
    "print(count_by_id)"
   ]
  },
  {
   "cell_type": "code",
   "execution_count": 5,
   "metadata": {},
   "outputs": [],
   "source": [
    "df['사건수'] = df['횡단보도관리번호'].map(count_by_id)"
   ]
  },
  {
   "cell_type": "code",
   "execution_count": 6,
   "metadata": {},
   "outputs": [
    {
     "name": "stdout",
     "output_type": "stream",
     "text": [
      "녹색신호시간    281\n",
      "사건수         0\n",
      "dtype: int64\n"
     ]
    }
   ],
   "source": [
    "print(df[['녹색신호시간', '사건수']].isnull().sum())"
   ]
  },
  {
   "cell_type": "code",
   "execution_count": 7,
   "metadata": {},
   "outputs": [
    {
     "name": "stdout",
     "output_type": "stream",
     "text": [
      "Index(['acc_x', 'acc_y', '시도명', '시군구명', '도로명', '소재지도로명주소', '횡단보도관리번호',\n",
      "       '횡단보도종류', '자전거횡단도겸용여부', '고원식적용여부', 'grsXCrd', 'grsYCrd', '차로수', '횡단보도폭',\n",
      "       '횡단보도연장', '보행자신호등유무', '보행자작동신호기유무', '음향신호기설치여부', '녹색신호시간', '적색신호시간',\n",
      "       '교통섬유무', '보도턱낮춤여부', '점자블록유무', '집중조명시설유무', '관리기관명', '관리기관전화번호',\n",
      "       '데이터기준일자', '제공기관코드', '제공기관명', '사건수'],\n",
      "      dtype='object')\n"
     ]
    }
   ],
   "source": [
    "print(df.columns)"
   ]
  },
  {
   "cell_type": "code",
   "execution_count": 8,
   "metadata": {},
   "outputs": [],
   "source": [
    "df.to_excel('dongjak_with_crosswalk_accident_count.xlsx')"
   ]
  },
  {
   "cell_type": "markdown",
   "metadata": {},
   "source": [
    "## 상관계수 확인(피어슨, 스피어만)"
   ]
  },
  {
   "cell_type": "code",
   "execution_count": 9,
   "metadata": {},
   "outputs": [],
   "source": [
    "df2 = pd.read_excel('dongjak_with_crosswalk_accident_count.xlsx')"
   ]
  },
  {
   "cell_type": "code",
   "execution_count": 10,
   "metadata": {},
   "outputs": [],
   "source": [
    "from scipy.stats import pearsonr, spearmanr"
   ]
  },
  {
   "cell_type": "code",
   "execution_count": 11,
   "metadata": {},
   "outputs": [],
   "source": [
    "df_valid = df2[['녹색신호시간', '사건수']].dropna()"
   ]
  },
  {
   "cell_type": "code",
   "execution_count": 12,
   "metadata": {},
   "outputs": [
    {
     "name": "stdout",
     "output_type": "stream",
     "text": [
      "Index(['녹색신호시간', '사건수'], dtype='object')\n"
     ]
    }
   ],
   "source": [
    "print(df_valid.columns)"
   ]
  },
  {
   "cell_type": "code",
   "execution_count": 13,
   "metadata": {},
   "outputs": [
    {
     "name": "stdout",
     "output_type": "stream",
     "text": [
      "int64\n",
      "float64\n"
     ]
    }
   ],
   "source": [
    "print(df_valid['사건수'].dtype)\n",
    "print(df_valid['녹색신호시간'].dtype)"
   ]
  },
  {
   "cell_type": "code",
   "execution_count": 14,
   "metadata": {},
   "outputs": [],
   "source": [
    "pearsonr_corr, p_value1 = pearsonr(df_valid['녹색신호시간'], df_valid['사건수'])\n",
    "spearmanr_corr, p_value2 = spearmanr(df_valid['녹색신호시간'], df_valid['사건수'])"
   ]
  },
  {
   "cell_type": "code",
   "execution_count": 15,
   "metadata": {},
   "outputs": [
    {
     "name": "stdout",
     "output_type": "stream",
     "text": [
      "25\n",
      "6\n",
      "0     33.0\n",
      "2     27.0\n",
      "5     31.0\n",
      "7     32.0\n",
      "25    28.0\n",
      "26    30.0\n",
      "27    25.0\n",
      "30    30.0\n",
      "34    27.0\n",
      "40    26.0\n",
      "Name: 녹색신호시간, dtype: float64\n",
      "0     2\n",
      "2     2\n",
      "5     1\n",
      "7     1\n",
      "25    3\n",
      "26    1\n",
      "27    1\n",
      "30    1\n",
      "34    3\n",
      "40    3\n",
      "Name: 사건수, dtype: int64\n"
     ]
    }
   ],
   "source": [
    "print(df_valid['녹색신호시간'].nunique())\n",
    "print(df_valid['사건수'].nunique())\n",
    "print(df_valid['녹색신호시간'].head(10))\n",
    "print(df_valid['사건수'].head(10))"
   ]
  },
  {
   "cell_type": "code",
   "execution_count": 16,
   "metadata": {},
   "outputs": [
    {
     "name": "stdout",
     "output_type": "stream",
     "text": [
      "피어슨 상관계수: -0.27 (p=0.002)\n",
      "스피어만 상관계수: -0.21 (p=0.019)\n"
     ]
    }
   ],
   "source": [
    "print(f\"피어슨 상관계수: {pearsonr_corr:.2f} (p={p_value1:.3f})\")\n",
    "print(f\"스피어만 상관계수: {spearmanr_corr:.2f} (p={p_value2:.3f})\")"
   ]
  },
  {
   "cell_type": "markdown",
   "metadata": {},
   "source": [
    "## 가설에 대한 다중회귀분석"
   ]
  },
  {
   "cell_type": "code",
   "execution_count": 17,
   "metadata": {},
   "outputs": [
    {
     "name": "stdout",
     "output_type": "stream",
     "text": [
      "Requirement already satisfied: statsmodels in ./.venv/lib/python3.13/site-packages (0.14.5)\n",
      "Requirement already satisfied: numpy<3,>=1.22.3 in ./.venv/lib/python3.13/site-packages (from statsmodels) (2.1.3)\n",
      "Requirement already satisfied: scipy!=1.9.2,>=1.8 in ./.venv/lib/python3.13/site-packages (from statsmodels) (1.14.1)\n",
      "Requirement already satisfied: pandas!=2.1.0,>=1.4 in ./.venv/lib/python3.13/site-packages (from statsmodels) (2.2.3)\n",
      "Requirement already satisfied: patsy>=0.5.6 in ./.venv/lib/python3.13/site-packages (from statsmodels) (1.0.1)\n",
      "Requirement already satisfied: packaging>=21.3 in ./.venv/lib/python3.13/site-packages (from statsmodels) (24.2)\n",
      "Requirement already satisfied: python-dateutil>=2.8.2 in ./.venv/lib/python3.13/site-packages (from pandas!=2.1.0,>=1.4->statsmodels) (2.9.0.post0)\n",
      "Requirement already satisfied: pytz>=2020.1 in ./.venv/lib/python3.13/site-packages (from pandas!=2.1.0,>=1.4->statsmodels) (2024.2)\n",
      "Requirement already satisfied: tzdata>=2022.7 in ./.venv/lib/python3.13/site-packages (from pandas!=2.1.0,>=1.4->statsmodels) (2024.2)\n",
      "Requirement already satisfied: six>=1.5 in ./.venv/lib/python3.13/site-packages (from python-dateutil>=2.8.2->pandas!=2.1.0,>=1.4->statsmodels) (1.16.0)\n",
      "\n",
      "\u001b[1m[\u001b[0m\u001b[34;49mnotice\u001b[0m\u001b[1;39;49m]\u001b[0m\u001b[39;49m A new release of pip is available: \u001b[0m\u001b[31;49m24.3.1\u001b[0m\u001b[39;49m -> \u001b[0m\u001b[32;49m25.1.1\u001b[0m\n",
      "\u001b[1m[\u001b[0m\u001b[34;49mnotice\u001b[0m\u001b[1;39;49m]\u001b[0m\u001b[39;49m To update, run: \u001b[0m\u001b[32;49mpip install --upgrade pip\u001b[0m\n",
      "Note: you may need to restart the kernel to use updated packages.\n"
     ]
    }
   ],
   "source": [
    "%pip install statsmodels"
   ]
  },
  {
   "cell_type": "code",
   "execution_count": 18,
   "metadata": {},
   "outputs": [],
   "source": [
    "import statsmodels.api as sm"
   ]
  },
  {
   "cell_type": "code",
   "execution_count": 19,
   "metadata": {},
   "outputs": [
    {
     "name": "stdout",
     "output_type": "stream",
     "text": [
      "float64\n",
      "int64\n",
      "float64\n",
      "object\n",
      "object\n"
     ]
    }
   ],
   "source": [
    "print(df2['녹색신호시간'].dtypes)\n",
    "print(df2['차로수'].dtypes)\n",
    "print(df2['횡단보도폭'].dtypes)\n",
    "print(df2['보행자신호등유무'].dtypes)\n",
    "print(df2['집중조명시설유무'].dtypes)"
   ]
  },
  {
   "cell_type": "code",
   "execution_count": 20,
   "metadata": {},
   "outputs": [],
   "source": [
    "df_valid2 = df2[['녹색신호시간', '차로수', '횡단보도폭', '보행자신호등유무', '집중조명시설유무']].dropna()"
   ]
  },
  {
   "cell_type": "code",
   "execution_count": 21,
   "metadata": {},
   "outputs": [],
   "source": [
    "X = df_valid2[['녹색신호시간','차로수','횡단보도폭', '보행자신호등유무', '집중조명시설유무']]\n",
    "X = pd.get_dummies(X, drop_first=True) # 범주형 변수인 '보행자신호등유무', '집중조명시설유무' 컬럼 처리\n",
    "X = X.astype(float) # 여전히 True/False 값으로 되어있어 숫자형으로 변환\n",
    "X = sm.add_constant(X)\n",
    "y = df_valid['사건수']"
   ]
  },
  {
   "cell_type": "code",
   "execution_count": 22,
   "metadata": {},
   "outputs": [
    {
     "name": "stdout",
     "output_type": "stream",
     "text": [
      "                            OLS Regression Results                            \n",
      "==============================================================================\n",
      "Dep. Variable:                    사건수   R-squared:                       0.157\n",
      "Model:                            OLS   Adj. R-squared:                  0.129\n",
      "Method:                 Least Squares   F-statistic:                     5.667\n",
      "Date:                Wed, 16 Jul 2025   Prob (F-statistic):           0.000323\n",
      "Time:                        19:54:20   Log-Likelihood:                -259.37\n",
      "No. Observations:                 127   AIC:                             528.7\n",
      "Df Residuals:                     122   BIC:                             543.0\n",
      "Df Model:                           4                                         \n",
      "Covariance Type:            nonrobust                                         \n",
      "==============================================================================\n",
      "                 coef    std err          t      P>|t|      [0.025      0.975]\n",
      "------------------------------------------------------------------------------\n",
      "const          4.0503      0.903      4.484      0.000       2.262       5.839\n",
      "녹색신호시간        -0.0617      0.025     -2.506      0.014      -0.111      -0.013\n",
      "차로수           -0.1876      0.080     -2.353      0.020      -0.345      -0.030\n",
      "횡단보도폭          0.0399      0.084      0.474      0.637      -0.127       0.207\n",
      "집중조명시설유무_Y     1.4574      0.492      2.962      0.004       0.483       2.432\n",
      "==============================================================================\n",
      "Omnibus:                       10.177   Durbin-Watson:                   1.395\n",
      "Prob(Omnibus):                  0.006   Jarque-Bera (JB):               10.631\n",
      "Skew:                           0.705   Prob(JB):                      0.00491\n",
      "Kurtosis:                       3.142   Cond. No.                         176.\n",
      "==============================================================================\n",
      "\n",
      "Notes:\n",
      "[1] Standard Errors assume that the covariance matrix of the errors is correctly specified.\n"
     ]
    }
   ],
   "source": [
    "model = sm.OLS(y, X).fit()\n",
    "print(model.summary())"
   ]
  },
  {
   "cell_type": "markdown",
   "metadata": {},
   "source": [
    "# 랜덤포레스트 머신러닝"
   ]
  },
  {
   "cell_type": "markdown",
   "metadata": {},
   "source": []
  },
  {
   "cell_type": "code",
   "execution_count": 23,
   "metadata": {},
   "outputs": [
    {
     "name": "stdout",
     "output_type": "stream",
     "text": [
      "    녹색신호시간  차로수  횡단보도폭 보행자신호등유무 집중조명시설유무  is_accident\n",
      "0     33.0    4    6.2        Y        Y            1\n",
      "2     27.0    6    5.5        Y        Y            1\n",
      "5     31.0    4    6.0        Y        Y            1\n",
      "7     32.0    4    6.4        Y        Y            1\n",
      "25    28.0    6    6.6        Y        Y            1\n"
     ]
    }
   ],
   "source": [
    "df_valid2['is_accident'] = (df_valid['사건수']>0).astype(int)\n",
    "print(df_valid2.head(5))"
   ]
  },
  {
   "cell_type": "code",
   "execution_count": 24,
   "metadata": {},
   "outputs": [],
   "source": [
    "from sklearn.ensemble import RandomForestClassifier\n",
    "from sklearn.model_selection import cross_val_score, StratifiedKFold\n",
    "from sklearn.metrics import classification_report, confusion_matrix"
   ]
  },
  {
   "cell_type": "code",
   "execution_count": 25,
   "metadata": {},
   "outputs": [],
   "source": [
    "# 랜덤포레스트 모델 정의\n",
    "rf = RandomForestClassifier(n_estimators=100, random_state=2025)"
   ]
  },
  {
   "cell_type": "code",
   "execution_count": 26,
   "metadata": {},
   "outputs": [],
   "source": [
    "y = df_valid2['is_accident']\n",
    "\n",
    "# 교차검증 (K-Fold)\n",
    "cv = StratifiedKFold(n_splits=5, shuffle=True, random_state=2025)\n",
    "scores = cross_val_score(rf, X, y, cv=cv, scoring='accuracy')"
   ]
  },
  {
   "cell_type": "code",
   "execution_count": 27,
   "metadata": {},
   "outputs": [
    {
     "name": "stdout",
     "output_type": "stream",
     "text": [
      "RandomForestClassifier cv Accuray: 1.000(std: 0.000)\n"
     ]
    }
   ],
   "source": [
    "# 랜덤포레스트 모델 정확도\n",
    "print(f'RandomForestClassifier cv Accuray: {scores.mean():.3f}(std: {scores.std():.3f})')"
   ]
  },
  {
   "cell_type": "code",
   "execution_count": 28,
   "metadata": {},
   "outputs": [
    {
     "name": "stdout",
     "output_type": "stream",
     "text": [
      "const: 0.000\n",
      "녹색신호시간: 0.000\n",
      "차로수: 0.000\n",
      "횡단보도폭: 0.000\n",
      "집중조명시설유무_Y: 0.000\n"
     ]
    }
   ],
   "source": [
    "rf.fit(X, y)\n",
    "importances = rf.feature_importances_\n",
    "for name, imp in zip(X.columns, importances):\n",
    "    print(f'{name}: {imp:.3f}')"
   ]
  },
  {
   "cell_type": "code",
   "execution_count": 29,
   "metadata": {},
   "outputs": [
    {
     "name": "stdout",
     "output_type": "stream",
     "text": [
      "\n",
      "분류 리포트:\n",
      "              precision    recall  f1-score   support\n",
      "\n",
      "           1       1.00      1.00      1.00       127\n",
      "\n",
      "    accuracy                           1.00       127\n",
      "   macro avg       1.00      1.00      1.00       127\n",
      "weighted avg       1.00      1.00      1.00       127\n",
      "\n",
      "혼동 행렬:\n",
      "[[127]]\n"
     ]
    },
    {
     "name": "stderr",
     "output_type": "stream",
     "text": [
      "/Users/yeonsu/Desktop/hackerton_backend/.venv/lib/python3.13/site-packages/sklearn/metrics/_classification.py:409: UserWarning: A single label was found in 'y_true' and 'y_pred'. For the confusion matrix to have the correct shape, use the 'labels' parameter to pass all known labels.\n",
      "  warnings.warn(\n"
     ]
    }
   ],
   "source": [
    "y_pred = rf.predict(X)\n",
    "print('\\n분류 리포트:')\n",
    "print(classification_report(y, y_pred))\n",
    "print('혼동 행렬:')\n",
    "print(confusion_matrix(y, y_pred))"
   ]
  },
  {
   "cell_type": "code",
   "execution_count": 30,
   "metadata": {},
   "outputs": [
    {
     "name": "stdout",
     "output_type": "stream",
     "text": [
      "Requirement already satisfied: matplotlib in ./.venv/lib/python3.13/site-packages (3.10.3)\n",
      "Requirement already satisfied: contourpy>=1.0.1 in ./.venv/lib/python3.13/site-packages (from matplotlib) (1.3.2)\n",
      "Requirement already satisfied: cycler>=0.10 in ./.venv/lib/python3.13/site-packages (from matplotlib) (0.12.1)\n",
      "Requirement already satisfied: fonttools>=4.22.0 in ./.venv/lib/python3.13/site-packages (from matplotlib) (4.58.5)\n",
      "Requirement already satisfied: kiwisolver>=1.3.1 in ./.venv/lib/python3.13/site-packages (from matplotlib) (1.4.8)\n",
      "Requirement already satisfied: numpy>=1.23 in ./.venv/lib/python3.13/site-packages (from matplotlib) (2.1.3)\n",
      "Requirement already satisfied: packaging>=20.0 in ./.venv/lib/python3.13/site-packages (from matplotlib) (24.2)\n",
      "Requirement already satisfied: pillow>=8 in ./.venv/lib/python3.13/site-packages (from matplotlib) (11.3.0)\n",
      "Requirement already satisfied: pyparsing>=2.3.1 in ./.venv/lib/python3.13/site-packages (from matplotlib) (3.2.3)\n",
      "Requirement already satisfied: python-dateutil>=2.7 in ./.venv/lib/python3.13/site-packages (from matplotlib) (2.9.0.post0)\n",
      "Requirement already satisfied: six>=1.5 in ./.venv/lib/python3.13/site-packages (from python-dateutil>=2.7->matplotlib) (1.16.0)\n",
      "\n",
      "\u001b[1m[\u001b[0m\u001b[34;49mnotice\u001b[0m\u001b[1;39;49m]\u001b[0m\u001b[39;49m A new release of pip is available: \u001b[0m\u001b[31;49m24.3.1\u001b[0m\u001b[39;49m -> \u001b[0m\u001b[32;49m25.1.1\u001b[0m\n",
      "\u001b[1m[\u001b[0m\u001b[34;49mnotice\u001b[0m\u001b[1;39;49m]\u001b[0m\u001b[39;49m To update, run: \u001b[0m\u001b[32;49mpip install --upgrade pip\u001b[0m\n",
      "Note: you may need to restart the kernel to use updated packages.\n"
     ]
    }
   ],
   "source": [
    "%pip install matplotlib"
   ]
  },
  {
   "cell_type": "code",
   "execution_count": 31,
   "metadata": {},
   "outputs": [
    {
     "data": {
      "image/png": "[encoded data removed]",
      "text/plain": [
       "<Figure size 640x480 with 1 Axes>"
      ]
     },
     "metadata": {},
     "output_type": "display_data"
    }
   ],
   "source": [
    "import matplotlib.pyplot as plt\n",
    "plt.rcParams['font.family'] = 'AppleGothic'  # Mac 기본 한글 폰트\n",
    "plt.rcParams['axes.unicode_minus'] = False   # 마이너스(-) 깨짐 방지\n",
    "plt.scatter(df_valid2['녹색신호시간'], df_valid2['is_accident'])\n",
    "plt.xlabel('녹색신호시간')\n",
    "plt.ylabel('사고발생여부')\n",
    "plt.show()"
   ]
  },
  {
   "cell_type": "code",
   "execution_count": 32,
   "metadata": {},
   "outputs": [
    {
     "name": "stdout",
     "output_type": "stream",
     "text": [
      "is_accident\n",
      "1    127\n",
      "Name: count, dtype: int64\n"
     ]
    }
   ],
   "source": [
    "print(df_valid2['is_accident'].value_counts())"
   ]
  },
  {
   "cell_type": "markdown",
   "metadata": {},
   "source": [
    "### 여전히 데이터 불균형으로 인한 문제 발생...\n",
    "- 동작구 횡단보도 데이터(127개)에서는 녹색신호시간 등 주요 변수로 사고 발생 여부를 100% 예측할 수 있었지만, 표본 수가 제한적이고 추가 데이터 확보가 불가능하므로 데이터 불균형으로 인한 일반화 예상\n",
    "- 데이터 전처리를 다시 진행할 필요가 있음"
   ]
  },
  {
   "cell_type": "markdown",
   "metadata": {},
   "source": []
  }
 ],
 "metadata": {
  "kernelspec": {
   "display_name": ".venv",
   "language": "python",
   "name": "python3"
  },
  "language_info": {
   "codemirror_mode": {
    "name": "ipython",
    "version": 3
   },
   "file_extension": ".py",
   "mimetype": "text/x-python",
   "name": "python",
   "nbconvert_exporter": "python",
   "pygments_lexer": "ipython3",
   "version": "3.13.3"
  }
 },
 "nbformat": 4,
 "nbformat_minor": 2
}
