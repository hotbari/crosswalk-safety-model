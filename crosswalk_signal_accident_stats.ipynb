{
 "cells": [
  {
   "cell_type": "markdown",
   "metadata": {},
   "source": [
    "## 횡단보도 관리번호 별 사건 개수 컬럼 추가"
   ]
  },
  {
   "cell_type": "code",
   "execution_count": 1,
   "metadata": {},
   "outputs": [],
   "source": [
    "import pandas as pd"
   ]
  },
  {
   "cell_type": "code",
   "execution_count": 39,
   "metadata": {},
   "outputs": [
    {
     "name": "stdout",
     "output_type": "stream",
     "text": [
      "Index(['acc_x', 'acc_y', '시도명', '시군구명', '도로명', '소재지도로명주소', '횡단보도관리번호',\n",
      "       '횡단보도종류', '자전거횡단도겸용여부', '고원식적용여부', 'grsXCrd', 'grsYCrd', '차로수', '횡단보도폭',\n",
      "       '횡단보도연장', '보행자신호등유무', '보행자작동신호기유무', '음향신호기설치여부', '녹색신호시간', '적색신호시간',\n",
      "       '교통섬유무', '보도턱낮춤여부', '점자블록유무', '집중조명시설유무', '관리기관명', '관리기관전화번호',\n",
      "       '데이터기준일자', '제공기관코드', '제공기관명'],\n",
      "      dtype='object')\n"
     ]
    }
   ],
   "source": [
    "df = pd.read_excel('dj_09_filtered_xy.xlsx')\n",
    "print(df.columns)"
   ]
  },
  {
   "cell_type": "code",
   "execution_count": null,
   "metadata": {},
   "outputs": [],
   "source": [
    "count_by_id = df['횡단보도관리번호'].value_counts()\n",
    "print(count_by_id)"
   ]
  },
  {
   "cell_type": "code",
   "execution_count": null,
   "metadata": {},
   "outputs": [],
   "source": [
    "df['사건수'] = df['횡단보도관리번호'].map(count_by_id)"
   ]
  },
  {
   "cell_type": "code",
   "execution_count": null,
   "metadata": {},
   "outputs": [],
   "source": [
    "print(df[['녹색신호시간', '사건수']].isnull().sum())"
   ]
  },
  {
   "cell_type": "code",
   "execution_count": null,
   "metadata": {},
   "outputs": [],
   "source": [
    "print(df.columns)"
   ]
  },
  {
   "cell_type": "code",
   "execution_count": 2,
   "metadata": {},
   "outputs": [
    {
     "ename": "NameError",
     "evalue": "name 'df' is not defined",
     "output_type": "error",
     "traceback": [
      "\u001b[31m---------------------------------------------------------------------------\u001b[39m",
      "\u001b[31mNameError\u001b[39m                                 Traceback (most recent call last)",
      "\u001b[36mCell\u001b[39m\u001b[36m \u001b[39m\u001b[32mIn[2]\u001b[39m\u001b[32m, line 1\u001b[39m\n\u001b[32m----> \u001b[39m\u001b[32m1\u001b[39m \u001b[43mdf\u001b[49m.to_excel(\u001b[33m'\u001b[39m\u001b[33mdongjak_with_crosswalk_accident_count.xlsx\u001b[39m\u001b[33m'\u001b[39m)\n",
      "\u001b[31mNameError\u001b[39m: name 'df' is not defined"
     ]
    }
   ],
   "source": [
    "df.to_excel('dongjak_with_crosswalk_accident_count.xlsx')"
   ]
  },
  {
   "cell_type": "markdown",
   "metadata": {},
   "source": [
    "## 상관계수 확인(피어슨, 스피어만)"
   ]
  },
  {
   "cell_type": "code",
   "execution_count": 3,
   "metadata": {},
   "outputs": [],
   "source": [
    "df2 = pd.read_excel('dongjak_with_crosswalk_accident_count.xlsx')"
   ]
  },
  {
   "cell_type": "code",
   "execution_count": 4,
   "metadata": {},
   "outputs": [],
   "source": [
    "from scipy.stats import pearsonr, spearmanr"
   ]
  },
  {
   "cell_type": "code",
   "execution_count": 5,
   "metadata": {},
   "outputs": [],
   "source": [
    "df_valid = df2[['녹색신호시간', '사건수']].dropna()"
   ]
  },
  {
   "cell_type": "code",
   "execution_count": 41,
   "metadata": {},
   "outputs": [
    {
     "name": "stdout",
     "output_type": "stream",
     "text": [
      "Index(['녹색신호시간', '사건수'], dtype='object')\n"
     ]
    }
   ],
   "source": [
    "print(df_valid.columns)"
   ]
  },
  {
   "cell_type": "code",
   "execution_count": 13,
   "metadata": {},
   "outputs": [
    {
     "name": "stdout",
     "output_type": "stream",
     "text": [
      "int64\n",
      "float64\n"
     ]
    }
   ],
   "source": [
    "print(df_valid['사건수'].dtype)\n",
    "print(df_valid['녹색신호시간'].dtype)"
   ]
  },
  {
   "cell_type": "code",
   "execution_count": 14,
   "metadata": {},
   "outputs": [],
   "source": [
    "pearsonr_corr, p_value1 = pearsonr(df_valid['녹색신호시간'], df_valid['사건수'])\n",
    "spearmanr_corr, p_value2 = spearmanr(df_valid['녹색신호시간'], df_valid['사건수'])"
   ]
  },
  {
   "cell_type": "code",
   "execution_count": 15,
   "metadata": {},
   "outputs": [
    {
     "name": "stdout",
     "output_type": "stream",
     "text": [
      "25\n",
      "6\n",
      "0     33.0\n",
      "2     27.0\n",
      "5     31.0\n",
      "7     32.0\n",
      "25    28.0\n",
      "26    30.0\n",
      "27    25.0\n",
      "30    30.0\n",
      "34    27.0\n",
      "40    26.0\n",
      "Name: 녹색신호시간, dtype: float64\n",
      "0     2\n",
      "2     2\n",
      "5     1\n",
      "7     1\n",
      "25    3\n",
      "26    1\n",
      "27    1\n",
      "30    1\n",
      "34    3\n",
      "40    3\n",
      "Name: 사건수, dtype: int64\n"
     ]
    }
   ],
   "source": [
    "print(df_valid['녹색신호시간'].nunique())\n",
    "print(df_valid['사건수'].nunique())\n",
    "print(df_valid['녹색신호시간'].head(10))\n",
    "print(df_valid['사건수'].head(10))"
   ]
  },
  {
   "cell_type": "code",
   "execution_count": 16,
   "metadata": {},
   "outputs": [
    {
     "name": "stdout",
     "output_type": "stream",
     "text": [
      "피어슨 상관계수: -0.27 (p=0.002)\n",
      "스피어만 상관계수: -0.21 (p=0.019)\n"
     ]
    }
   ],
   "source": [
    "print(f\"피어슨 상관계수: {pearsonr_corr:.2f} (p={p_value1:.3f})\")\n",
    "print(f\"스피어만 상관계수: {spearmanr_corr:.2f} (p={p_value2:.3f})\")"
   ]
  },
  {
   "cell_type": "markdown",
   "metadata": {},
   "source": [
    "## 가설에 대한 다중회귀분석"
   ]
  },
  {
   "cell_type": "code",
   "execution_count": 30,
   "metadata": {},
   "outputs": [
    {
     "name": "stdout",
     "output_type": "stream",
     "text": [
      "Collecting statsmodels\n",
      "  Downloading statsmodels-0.14.5-cp313-cp313-macosx_11_0_arm64.whl.metadata (9.5 kB)\n",
      "Requirement already satisfied: numpy<3,>=1.22.3 in ./.venv/lib/python3.13/site-packages (from statsmodels) (2.1.3)\n",
      "Requirement already satisfied: scipy!=1.9.2,>=1.8 in ./.venv/lib/python3.13/site-packages (from statsmodels) (1.14.1)\n",
      "Requirement already satisfied: pandas!=2.1.0,>=1.4 in ./.venv/lib/python3.13/site-packages (from statsmodels) (2.2.3)\n",
      "Collecting patsy>=0.5.6 (from statsmodels)\n",
      "  Using cached patsy-1.0.1-py2.py3-none-any.whl.metadata (3.3 kB)\n",
      "Requirement already satisfied: packaging>=21.3 in ./.venv/lib/python3.13/site-packages (from statsmodels) (24.2)\n",
      "Requirement already satisfied: python-dateutil>=2.8.2 in ./.venv/lib/python3.13/site-packages (from pandas!=2.1.0,>=1.4->statsmodels) (2.9.0.post0)\n",
      "Requirement already satisfied: pytz>=2020.1 in ./.venv/lib/python3.13/site-packages (from pandas!=2.1.0,>=1.4->statsmodels) (2024.2)\n",
      "Requirement already satisfied: tzdata>=2022.7 in ./.venv/lib/python3.13/site-packages (from pandas!=2.1.0,>=1.4->statsmodels) (2024.2)\n",
      "Requirement already satisfied: six>=1.5 in ./.venv/lib/python3.13/site-packages (from python-dateutil>=2.8.2->pandas!=2.1.0,>=1.4->statsmodels) (1.16.0)\n",
      "Downloading statsmodels-0.14.5-cp313-cp313-macosx_11_0_arm64.whl (9.7 MB)\n",
      "\u001b[2K   \u001b[90m━━━━━━━━━━━━━━━━━━━━━━━━━━━━━━━━━━━━━━━━\u001b[0m \u001b[32m9.7/9.7 MB\u001b[0m \u001b[31m24.5 MB/s\u001b[0m eta \u001b[36m0:00:00\u001b[0ma \u001b[36m0:00:01\u001b[0m\n",
      "\u001b[?25hUsing cached patsy-1.0.1-py2.py3-none-any.whl (232 kB)\n",
      "Installing collected packages: patsy, statsmodels\n",
      "Successfully installed patsy-1.0.1 statsmodels-0.14.5\n",
      "\n",
      "\u001b[1m[\u001b[0m\u001b[34;49mnotice\u001b[0m\u001b[1;39;49m]\u001b[0m\u001b[39;49m A new release of pip is available: \u001b[0m\u001b[31;49m24.3.1\u001b[0m\u001b[39;49m -> \u001b[0m\u001b[32;49m25.1.1\u001b[0m\n",
      "\u001b[1m[\u001b[0m\u001b[34;49mnotice\u001b[0m\u001b[1;39;49m]\u001b[0m\u001b[39;49m To update, run: \u001b[0m\u001b[32;49mpip install --upgrade pip\u001b[0m\n",
      "Note: you may need to restart the kernel to use updated packages.\n"
     ]
    }
   ],
   "source": [
    "%pip install statsmodels"
   ]
  },
  {
   "cell_type": "code",
   "execution_count": 32,
   "metadata": {},
   "outputs": [],
   "source": [
    "import statsmodels.api as sm"
   ]
  },
  {
   "cell_type": "code",
   "execution_count": 65,
   "metadata": {},
   "outputs": [
    {
     "name": "stdout",
     "output_type": "stream",
     "text": [
      "float64\n",
      "int64\n",
      "float64\n",
      "object\n",
      "object\n"
     ]
    }
   ],
   "source": [
    "print(df2['녹색신호시간'].dtypes)\n",
    "print(df2['차로수'].dtypes)\n",
    "print(df2['횡단보도폭'].dtypes)\n",
    "print(df2['보행자신호등유무'].dtypes)\n",
    "print(df2['집중조명시설유무'].dtypes)"
   ]
  },
  {
   "cell_type": "code",
   "execution_count": 66,
   "metadata": {},
   "outputs": [],
   "source": [
    "df_valid2 = df2[['녹색신호시간', '차로수', '횡단보도폭', '보행자신호등유무', '집중조명시설유무']].dropna()"
   ]
  },
  {
   "cell_type": "code",
   "execution_count": 70,
   "metadata": {},
   "outputs": [],
   "source": [
    "X = df_valid2[['녹색신호시간','차로수','횡단보도폭', '보행자신호등유무', '집중조명시설유무']]\n",
    "X = pd.get_dummies(X, drop_first=True) # 범주형 변수인 '보행자신호등유무', '집중조명시설유무' 컬럼 처리\n",
    "X = X.astype(float) # 여전히 True/False 값으로 되어있어 숫자형으로 변환\n",
    "X = sm.add_constant(X)\n",
    "y = df_valid['사건수']"
   ]
  },
  {
   "cell_type": "code",
   "execution_count": 71,
   "metadata": {},
   "outputs": [
    {
     "name": "stdout",
     "output_type": "stream",
     "text": [
      "                            OLS Regression Results                            \n",
      "==============================================================================\n",
      "Dep. Variable:                    사건수   R-squared:                       0.157\n",
      "Model:                            OLS   Adj. R-squared:                  0.129\n",
      "Method:                 Least Squares   F-statistic:                     5.667\n",
      "Date:                Wed, 16 Jul 2025   Prob (F-statistic):           0.000323\n",
      "Time:                        17:59:19   Log-Likelihood:                -259.37\n",
      "No. Observations:                 127   AIC:                             528.7\n",
      "Df Residuals:                     122   BIC:                             543.0\n",
      "Df Model:                           4                                         \n",
      "Covariance Type:            nonrobust                                         \n",
      "==============================================================================\n",
      "                 coef    std err          t      P>|t|      [0.025      0.975]\n",
      "------------------------------------------------------------------------------\n",
      "const          4.0503      0.903      4.484      0.000       2.262       5.839\n",
      "녹색신호시간        -0.0617      0.025     -2.506      0.014      -0.111      -0.013\n",
      "차로수           -0.1876      0.080     -2.353      0.020      -0.345      -0.030\n",
      "횡단보도폭          0.0399      0.084      0.474      0.637      -0.127       0.207\n",
      "집중조명시설유무_Y     1.4574      0.492      2.962      0.004       0.483       2.432\n",
      "==============================================================================\n",
      "Omnibus:                       10.177   Durbin-Watson:                   1.395\n",
      "Prob(Omnibus):                  0.006   Jarque-Bera (JB):               10.631\n",
      "Skew:                           0.705   Prob(JB):                      0.00491\n",
      "Kurtosis:                       3.142   Cond. No.                         176.\n",
      "==============================================================================\n",
      "\n",
      "Notes:\n",
      "[1] Standard Errors assume that the covariance matrix of the errors is correctly specified.\n"
     ]
    }
   ],
   "source": [
    "model = sm.OLS(y, X).fit()\n",
    "print(model.summary())"
   ]
  }
 ],
 "metadata": {
  "kernelspec": {
   "display_name": ".venv",
   "language": "python",
   "name": "python3"
  },
  "language_info": {
   "codemirror_mode": {
    "name": "ipython",
    "version": 3
   },
   "file_extension": ".py",
   "mimetype": "text/x-python",
   "name": "python",
   "nbconvert_exporter": "python",
   "pygments_lexer": "ipython3",
   "version": "3.13.3"
  }
 },
 "nbformat": 4,
 "nbformat_minor": 2
}
